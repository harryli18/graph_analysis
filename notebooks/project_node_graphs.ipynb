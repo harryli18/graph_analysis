{
 "cells": [
  {
   "cell_type": "code",
   "execution_count": 1,
   "id": "ab495fbf",
   "metadata": {},
   "outputs": [],
   "source": [
    "import pandas as pd\n",
    "import os\n",
    "from itertools import permutations\n",
    "from sklearn.preprocessing import MinMaxScaler\n",
    "import project_node_functions as funcs\n",
    "\n",
    "import warnings\n",
    "warnings.filterwarnings('ignore')\n",
    "\n",
    "# Gather 2022 Details \n",
    "report_dir = 'C:/Users/harry/Documents/data/Project_Node/report/'"
   ]
  },
  {
   "cell_type": "code",
   "execution_count": 2,
   "id": "5105735d",
   "metadata": {},
   "outputs": [],
   "source": [
    "# create directories\n",
    "funcs.create_directories()\n",
    "\n",
    "##load data(insert filepath to the data file)\n",
    "all_data = pd.read_csv(os.path.join(report_dir, 'OverallCommunication_Processed_01122021_31012022.csv'))\n",
    "\n",
    "##apply network characteristics on nodes\n",
    "funcs.network_characteristics(data=all_data, column_name=\"connectivity_score\", name=\"all_data\")\n",
    "##output per node is found here: work_dir + \"/Output/\" + name + \"_all_nodes.xlsx\"\n",
    "\n",
    "##create a file with the average of all characteristics\n",
    "funcs.apply_netw_characteristics(all_data, \"all_data\")\n",
    "##output is founf here:  work_dir + \"/Output/Characteristics_avg_all_communication_\" + name + \".xlsx\"\n",
    "\n",
    "funcs.create_network_visualization(dataset=all_data, column='connectivity_score')"
   ]
  },
  {
   "cell_type": "code",
   "execution_count": null,
   "id": "ddfee303",
   "metadata": {},
   "outputs": [],
   "source": []
  },
  {
   "cell_type": "code",
   "execution_count": 2,
   "id": "ed2c7e1a",
   "metadata": {},
   "outputs": [],
   "source": [
    "# create directories\n",
    "\n",
    "funcs.create_directories()\n",
    "\n",
    "##load data(insert filepath to the data file)\n",
    "all_data = pd.read_csv(os.path.join(report_dir, 'OverallCommunication_Processed_01022022_31032022.csv'))\n",
    "\n",
    "##apply network characteristics on nodes\n",
    "funcs.network_characteristics(data=all_data, column_name=\"connectivity_score\", name=\"all_data\")\n",
    "##output per node is found here: work_dir + \"/Output/\" + name + \"_all_nodes.xlsx\"\n",
    "\n",
    "##create a file with the average of all characteristics\n",
    "funcs.apply_netw_characteristics(all_data, \"all_data\")\n",
    "##output is founf here:  work_dir + \"/Output/Characteristics_avg_all_communication_\" + name + \".xlsx\"\n",
    "\n",
    "funcs.create_network_visualization(dataset=all_data, column='connectivity_score')"
   ]
  },
  {
   "cell_type": "code",
   "execution_count": null,
   "id": "78ba0ce3",
   "metadata": {},
   "outputs": [],
   "source": []
  }
 ],
 "metadata": {
  "kernelspec": {
   "display_name": "Python 3 (ipykernel)",
   "language": "python",
   "name": "python3"
  },
  "language_info": {
   "codemirror_mode": {
    "name": "ipython",
    "version": 3
   },
   "file_extension": ".py",
   "mimetype": "text/x-python",
   "name": "python",
   "nbconvert_exporter": "python",
   "pygments_lexer": "ipython3",
   "version": "3.10.4"
  }
 },
 "nbformat": 4,
 "nbformat_minor": 5
}
