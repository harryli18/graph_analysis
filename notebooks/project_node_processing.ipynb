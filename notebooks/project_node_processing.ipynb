{
 "cells": [
  {
   "cell_type": "code",
   "execution_count": 193,
   "id": "ab495fbf",
   "metadata": {},
   "outputs": [],
   "source": [
    "import pandas as pd\n",
    "import os\n",
    "from itertools import permutations\n",
    "\n",
    "import warnings\n",
    "warnings.filterwarnings('ignore')\n",
    "\n",
    "data_dir = 'C:/Users/harry/Documents/data/Project_Node'\n",
    "report_dir = 'C:/Users/harry/Documents/data/Project_Node/report/'"
   ]
  },
  {
   "cell_type": "code",
   "execution_count": 7,
   "id": "aaeecfb1",
   "metadata": {},
   "outputs": [
    {
     "name": "stderr",
     "output_type": "stream",
     "text": [
      "C:\\Users\\Harry\\AppData\\Local\\Temp\\ipykernel_21124\\2264513328.py:2: DtypeWarning: Columns (5,8,9,10,11,12,13,14,15,16,17,19,20,21,22,23,24,25,26,27,28) have mixed types. Specify dtype option on import or set low_memory=False.\n",
      "  person = pd.read_csv(os.path.join(data_dir, 'PersonHistorical.csv'))\n"
     ]
    }
   ],
   "source": [
    "PeopleCalls = pd.read_csv(os.path.join(data_dir, 'CallParticipants.csv'))\n",
    "person = pd.read_csv(os.path.join(data_dir, 'PersonHistorical.csv'))\n",
    "Calls = pd.read_csv(os.path.join(data_dir, 'Calls.csv'))"
   ]
  },
  {
   "cell_type": "code",
   "execution_count": 176,
   "id": "2bfe1708",
   "metadata": {},
   "outputs": [
    {
     "data": {
      "text/plain": [
       "55"
      ]
     },
     "execution_count": 176,
     "metadata": {},
     "output_type": "execute_result"
    }
   ],
   "source": [
    "Calls['TotalParticipants'].max()"
   ]
  },
  {
   "cell_type": "code",
   "execution_count": 119,
   "id": "b4494d62",
   "metadata": {},
   "outputs": [],
   "source": [
    "# Filter Person ID by Internal Netherland Office people \n",
    "filtered_person_df = person[(person['Country']=='Netherlands') & \\\n",
    "                                   ((person['Domain']=='CUSHWAKE.COM'))]\n",
    "\n",
    "# Filter Call ID by meeting group size\n",
    "filtered_calls = Calls[(Calls['TotalParticipants']>2) & ((Calls['TotalParticipants']<6))]\n",
    "\n",
    "\n",
    "# People call filters by person id and call id\n",
    "filtered_peoplecalls = PeopleCalls[(PeopleCalls['CallRecordId'].isin(filtered_calls['CallRecordId'])) &\n",
    "                                   (PeopleCalls['PersonHistoricalId'].isin(filtered_person_df['PersonHistoricalId']))]\n",
    "\n",
    "# filter People-call by Time Interval \n",
    "start_date = pd.to_datetime('2021-03-01')\n",
    "end_date =  start_date + pd.offsets.MonthBegin(3)\n",
    "filtered_peoplecalls['LocalStartTime'] = pd.to_datetime(filtered_peoplecalls['LocalStartTime'])\n",
    "filtered_peoplecalls = filtered_peoplecalls[(filtered_peoplecalls['LocalStartTime'] > start_date) & \n",
    "(filtered_peoplecalls['LocalStartTime'] < end_date)]\n",
    "\n",
    "# filter by duplicated call ids\n",
    "filtered_peoplecalls = filtered_peoplecalls[filtered_peoplecalls.duplicated(subset='CallRecordId', keep=False)]"
   ]
  },
  {
   "cell_type": "code",
   "execution_count": null,
   "id": "99043de4",
   "metadata": {},
   "outputs": [],
   "source": []
  },
  {
   "cell_type": "code",
   "execution_count": 175,
   "id": "018488bd",
   "metadata": {},
   "outputs": [],
   "source": [
    "pair_call_df = pd.DataFrame()\n",
    "\n",
    "for call_id in filtered_peoplecalls['CallRecordId'].unique():\n",
    "    person_id_list = list(filtered_peoplecalls[filtered_peoplecalls['CallRecordId']==call_id]['PersonHistoricalId'])\n",
    "    \n",
    "    temp_df = pd.DataFrame(list(permutations(person_id_list, 2)))\n",
    "    temp_df.columns = ['PersonId_A', 'PersonId_B']\n",
    "    temp_df['CallRecordId'] = call_id\n",
    "    pair_call_df = pd.concat([pair_call_df, temp_df])"
   ]
  },
  {
   "cell_type": "code",
   "execution_count": 178,
   "id": "31f1f3af",
   "metadata": {
    "scrolled": true
   },
   "outputs": [],
   "source": [
    "pair_call_df = pair_call_df.merge(filtered_peoplecalls, on='CallRecordId', how='left')"
   ]
  },
  {
   "cell_type": "code",
   "execution_count": 185,
   "id": "dc16a84d",
   "metadata": {},
   "outputs": [
    {
     "data": {
      "text/plain": [
       "(188810, 9)"
      ]
     },
     "execution_count": 185,
     "metadata": {},
     "output_type": "execute_result"
    }
   ],
   "source": [
    "pair_call_df.shape"
   ]
  },
  {
   "cell_type": "code",
   "execution_count": 182,
   "id": "e5f5dd49",
   "metadata": {},
   "outputs": [],
   "source": [
    "duration_mins_df = pair_call_df.groupby(by=['PersonId_A', 'PersonId_B']).sum().reset_index().sort_values(by='DurationMinutes', ascending=False)"
   ]
  },
  {
   "cell_type": "code",
   "execution_count": 186,
   "id": "0b49e0b6",
   "metadata": {},
   "outputs": [],
   "source": [
    "duration_mins_df.drop(['IsOrganizer'], axis=1, inplace=True)"
   ]
  },
  {
   "cell_type": "code",
   "execution_count": 194,
   "id": "a69dbf9c",
   "metadata": {},
   "outputs": [],
   "source": [
    "duration_mins_df.to_csv(os.path.join(report_dir, 'Calls_Processed.csv'), index=False)"
   ]
  },
  {
   "cell_type": "code",
   "execution_count": 189,
   "id": "2fdfe3ef",
   "metadata": {},
   "outputs": [
    {
     "data": {
      "text/plain": [
       "<AxesSubplot:>"
      ]
     },
     "execution_count": 189,
     "metadata": {},
     "output_type": "execute_result"
    },
    {
     "data": {
      "image/png": "[encoded data removed]",
      "text/plain": [
       "<Figure size 432x288 with 1 Axes>"
      ]
     },
     "metadata": {
      "needs_background": "light"
     },
     "output_type": "display_data"
    }
   ],
   "source": [
    "pd.set_option(\"display.max_rows\", False, \"display.max_columns\", None)\n",
    "duration_mins_df['DurationMinutes'].plot()"
   ]
  },
  {
   "cell_type": "code",
   "execution_count": 188,
   "id": "43421dd0",
   "metadata": {},
   "outputs": [
    {
     "data": {
      "text/html": [
       "<div>\n",
       "<style scoped>\n",
       "    .dataframe tbody tr th:only-of-type {\n",
       "        vertical-align: middle;\n",
       "    }\n",
       "\n",
       "    .dataframe tbody tr th {\n",
       "        vertical-align: top;\n",
       "    }\n",
       "\n",
       "    .dataframe thead th {\n",
       "        text-align: right;\n",
       "    }\n",
       "</style>\n",
       "<table border=\"1\" class=\"dataframe\">\n",
       "  <thead>\n",
       "    <tr style=\"text-align: right;\">\n",
       "      <th></th>\n",
       "      <th>DurationMinutes</th>\n",
       "    </tr>\n",
       "  </thead>\n",
       "  <tbody>\n",
       "    <tr>\n",
       "      <th>count</th>\n",
       "      <td>40520.000000</td>\n",
       "    </tr>\n",
       "    <tr>\n",
       "      <th>mean</th>\n",
       "      <td>175.784773</td>\n",
       "    </tr>\n",
       "    <tr>\n",
       "      <th>std</th>\n",
       "      <td>150.590052</td>\n",
       "    </tr>\n",
       "    <tr>\n",
       "      <th>min</th>\n",
       "      <td>0.086997</td>\n",
       "    </tr>\n",
       "    <tr>\n",
       "      <th>25%</th>\n",
       "      <td>79.778322</td>\n",
       "    </tr>\n",
       "    <tr>\n",
       "      <th>50%</th>\n",
       "      <td>136.062378</td>\n",
       "    </tr>\n",
       "    <tr>\n",
       "      <th>75%</th>\n",
       "      <td>227.384718</td>\n",
       "    </tr>\n",
       "    <tr>\n",
       "      <th>max</th>\n",
       "      <td>1820.484444</td>\n",
       "    </tr>\n",
       "  </tbody>\n",
       "</table>\n",
       "</div>"
      ],
      "text/plain": [
       "       DurationMinutes\n",
       "count     40520.000000\n",
       "mean        175.784773\n",
       "std         150.590052\n",
       "min           0.086997\n",
       "25%          79.778322\n",
       "50%         136.062378\n",
       "75%         227.384718\n",
       "max        1820.484444"
      ]
     },
     "execution_count": 188,
     "metadata": {},
     "output_type": "execute_result"
    }
   ],
   "source": [
    "duration_mins_df.describe()"
   ]
  },
  {
   "cell_type": "code",
   "execution_count": null,
   "id": "4a85ea64",
   "metadata": {},
   "outputs": [],
   "source": []
  }
 ],
 "metadata": {
  "kernelspec": {
   "display_name": "Python 3 (ipykernel)",
   "language": "python",
   "name": "python3"
  },
  "language_info": {
   "codemirror_mode": {
    "name": "ipython",
    "version": 3
   },
   "file_extension": ".py",
   "mimetype": "text/x-python",
   "name": "python",
   "nbconvert_exporter": "python",
   "pygments_lexer": "ipython3",
   "version": "3.10.4"
  }
 },
 "nbformat": 4,
 "nbformat_minor": 5
}
