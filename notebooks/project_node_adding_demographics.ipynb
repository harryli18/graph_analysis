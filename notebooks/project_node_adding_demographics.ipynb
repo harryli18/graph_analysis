{
 "cells": [
  {
   "cell_type": "code",
   "execution_count": 2,
   "id": "ab495fbf",
   "metadata": {},
   "outputs": [],
   "source": [
    "import pandas as pd\n",
    "import os\n",
    "from itertools import permutations\n",
    "from sklearn.preprocessing import MinMaxScaler\n",
    "from glob import glob\n",
    "import warnings\n",
    "warnings.filterwarnings('ignore')"
   ]
  },
  {
   "cell_type": "code",
   "execution_count": 3,
   "id": "73c79482",
   "metadata": {},
   "outputs": [],
   "source": [
    "# Gather 2022 Details \n",
    "data_dir = 'C:/Users/harry/Documents/data/Project_Node/2022-08-14-171850/'\n",
    "person = pd.read_csv(os.path.join(data_dir, 'PersonHistorical.csv'))\n",
    "\n",
    "# Filter Person ID by Internal Netherland Office people \n",
    "filtered_person_df = person[(person['Country']=='Netherlands') & (person['WorkerType']=='Employee') & \\\n",
    "                            (person['Domain']=='CUSHWAKE.COM') & (person['ActiveStatus']=='Yes') & \\\n",
    "                            (person['IsInternal']==True) ]\n",
    "\n",
    "# Helix Office\n",
    "# filtered_person_df = filtered_person_df[filtered_person_df['Office'].isin(['C - NLD - Utrecht - Franz-Lisztplantsoen 100', \n",
    "#                                                       'C - NLD - Naarden - Gooimeer 6-32'])]"
   ]
  },
  {
   "cell_type": "code",
   "execution_count": 4,
   "id": "f7d333e4",
   "metadata": {},
   "outputs": [],
   "source": [
    "# Gather 2021 Details\n",
    "data_dir_2 = 'C:/Users/harry/Documents/data/Project_Node/2021/'\n",
    "person_2021 = pd.read_csv(os.path.join(data_dir_2, 'PersonHistorical.csv'))\n",
    "\n",
    "# Filter Person ID by Internal Netherland Office people \n",
    "filtered_person_2021 = person_2021[(person_2021['Country']=='Netherlands') & (person_2021['WorkerType']=='Employee') & \\\n",
    "                            (person_2021['Domain']=='CUSHWAKE.COM') & (person_2021['ActiveStatus']=='Yes') & \\\n",
    "                            (person_2021['IsInternal']==True) ]\n",
    "\n",
    "# Helix Office\n",
    "# filtered_person_2021 = filtered_person_2021[filtered_person_2021['Office'].isin(['C - NLD - Utrecht - Franz-Lisztplantsoen 100', \n",
    "#                                                       'C - NLD - Naarden - Gooimeer 6-32'])]\n",
    "\n",
    "filtered_person_2021.sort_values(by='StartDate', ascending=False, inplace=True)\n",
    "filtered_person_2021.drop_duplicates(subset='EmailAddress', inplace=True, keep='first')"
   ]
  },
  {
   "cell_type": "code",
   "execution_count": 32,
   "id": "b55a9bc0",
   "metadata": {},
   "outputs": [
    {
     "name": "stdout",
     "output_type": "stream",
     "text": [
      "2021 C:/Users/harry/Documents/data/Project_Node/Helix_Analysis_2021/Output\\Callsall_data_all_nodes.xlsx\n",
      "2021 C:/Users/harry/Documents/data/Project_Node/Helix_Analysis_2022/Output\\Callsall_data_all_nodes.xlsx\n",
      "2021 C:/Users/harry/Documents/data/Project_Node/Helix_Analysis_2021/Output\\connectivity_scoreall_data_all_nodes.xlsx\n",
      "2021 C:/Users/harry/Documents/data/Project_Node/Helix_Analysis_2022/Output\\connectivity_scoreall_data_all_nodes.xlsx\n",
      "2021 C:/Users/harry/Documents/data/Project_Node/Helix_Analysis_2021/Output\\IMSall_data_all_nodes.xlsx\n",
      "2021 C:/Users/harry/Documents/data/Project_Node/Helix_Analysis_2022/Output\\IMSall_data_all_nodes.xlsx\n",
      "2021 C:/Users/harry/Documents/data/Project_Node/Helix_Analysis_2021/Output\\Mailsall_data_all_nodes.xlsx\n",
      "2021 C:/Users/harry/Documents/data/Project_Node/Helix_Analysis_2022/Output\\Mailsall_data_all_nodes.xlsx\n",
      "2021 C:/Users/harry/Documents/data/Project_Node/Helix_Analysis_2021/Output\\Meetingsall_data_all_nodes.xlsx\n",
      "2021 C:/Users/harry/Documents/data/Project_Node/Helix_Analysis_2022/Output\\Meetingsall_data_all_nodes.xlsx\n"
     ]
    }
   ],
   "source": [
    "grandmaster_df = pd.DataFrame()\n",
    "for comm_type in ['Calls', 'connectivity', 'IMS', 'Mails', 'Meetings']:\n",
    "    data_2021_dir = 'C:/Users/harry/Documents/data/Project_Node/Helix_Analysis_2021/Output/'\n",
    "    file_path = os.path.join(data_2021_dir, '*{}*all_nodes.xlsx'.format(comm_type))\n",
    "    file_list_2021 = glob(file_path)\n",
    "    print('2021', file_list_2021[0])\n",
    "    file_df_2021 = pd.read_excel(file_list_2021[0])\n",
    "    file_df_2021.rename({'EmailAdress': 'EmailAddress'}, inplace=True, axis=1)\n",
    "    file_df_2021.columns = ['Unnamed: 0',\n",
    "     'EmailAddress',\n",
    "     'Eigenvector_centrality_2021',\n",
    "     'Betweeness_centrality_2021',\n",
    "     'Closeness_centrality_2021',\n",
    "     'Degree_centrality_2021']\n",
    "\n",
    "    data_2022_dir = 'C:/Users/harry/Documents/data/Project_Node/Helix_Analysis_2022/Output/'\n",
    "    file_path = os.path.join(data_2022_dir, '*{}*all_nodes.xlsx'.format(comm_type))\n",
    "    file_list_2022 = glob(file_path)\n",
    "    file_df_2022 = pd.read_excel(file_list_2022[0])\n",
    "    print('2021', file_list_2022[0])\n",
    "    file_df_2022.rename({'EmailAdress': 'EmailAddress'}, inplace=True, axis=1)\n",
    "    file_df_2022.columns = ['Unnamed: 0',\n",
    "     'EmailAddress',\n",
    "     'Eigenvector_centrality_2022',\n",
    "     'Betweeness_centrality_2022',\n",
    "     'Closeness_centrality_2022',\n",
    "     'Degree_centrality_2022']\n",
    "\n",
    "    master_df =  file_df_2021.merge(file_df_2022, on='EmailAddress', how='inner')\n",
    "    master_df = master_df.merge(filtered_person_2021, on='EmailAddress', how='inner')\n",
    "    master_df.drop(['Unnamed: 0_x', 'Unnamed: 0_y'], axis=1, inplace=True)\n",
    "    master_df['CommType'] = comm_type\n",
    "    grandmaster_df = pd.concat([grandmaster_df, master_df])\n",
    "    \n",
    "grandmaster_df.loc[grandmaster_df['CommType']=='connectivity', 'CommType'] = 'Overall'"
   ]
  },
  {
   "cell_type": "code",
   "execution_count": 33,
   "id": "6881bf7c",
   "metadata": {},
   "outputs": [],
   "source": [
    "file_path = os.path.join(data_2022_dir, '*all_data.xlsx')\n",
    "file_list_2022 = glob(file_path)\n",
    "file_df_2022 = pd.read_excel(file_list_2022[0])\n",
    "\n",
    "file_path = os.path.join(data_2021_dir, '*all_data.xlsx')\n",
    "file_list_2021 = glob(file_path)\n",
    "file_df_2021 = pd.read_excel(file_list_2021[0])\n",
    "\n",
    "df = file_df_2022[['Unnamed: 0', 'mean']].merge(file_df_2021[['Unnamed: 0', 'mean']], on='Unnamed: 0')\n",
    "df.columns = ['Centrality', '2022 Average', '2021 Average']\n",
    "df['Avg_change_in_percentage'] = (df['2022 Average'] - df['2021 Average']) / df['2021 Average']\n",
    "\n",
    "df['Centrality'] = df['Centrality'].str.replace('connectivity_scoreall', 'Overallall')\n",
    "df['CommType'] = df['Centrality'].str.split('_', expand=True)[0].str[:-3]\n",
    "df['CentralityType'] = df['Centrality'].str.split('_', expand=True)[2]\n"
   ]
  },
  {
   "cell_type": "code",
   "execution_count": 35,
   "id": "5b19f3f7",
   "metadata": {},
   "outputs": [],
   "source": [
    "# Re-create Overall Scores \n",
    "\n",
    "df = df[df['CommType']!='Overall']\n",
    "a  = df.groupby(by='CentralityType').mean().reset_index()\n",
    "a['CommType'] = 'Overall'\n",
    "a['Centrality'] = a['CommType'] + '_data_' + a['CentralityType'] + '_centrality'\n",
    "df = pd.concat([df, a])\n",
    "\n",
    "grandmaster_df = grandmaster_df[grandmaster_df['CommType']!='Overall']\n",
    "a = grandmaster_df.groupby('EmailAddress').mean().reset_index()\n",
    "a['CommType'] = 'Overall'\n",
    "\n",
    "b = grandmaster_df[grandmaster_df['CommType']=='Calls']\n",
    "b_cols = [item for item in b.columns if item not in a.columns] + ['EmailAddress']\n",
    "b = b[b_cols]\n",
    "a = a.merge(b, on='EmailAddress')\n",
    "\n",
    "grandmaster_df = pd.concat([grandmaster_df, a])"
   ]
  },
  {
   "cell_type": "code",
   "execution_count": 36,
   "id": "af48b2b5",
   "metadata": {},
   "outputs": [],
   "source": [
    "report_dir = 'C:/Users/harry/Documents/data/Project_Node/'\n",
    "file_path = os.path.join(data_2022_dir, '*all_nodes.xlsx')\n",
    "file_list_2022 = glob(file_path)\n",
    "\n",
    "with pd.ExcelWriter(os.path.join(report_dir, 'Netherlands Study Scenario 2.xlsx')) as writer:  \n",
    "    grandmaster_df.to_excel(writer, sheet_name='All Nodes S2', index=False)\n",
    "    df.to_excel(writer, sheet_name='Centralities Stats S2', index=False)"
   ]
  },
  {
   "cell_type": "code",
   "execution_count": 37,
   "id": "0f0f7a00",
   "metadata": {},
   "outputs": [
    {
     "name": "stdout",
     "output_type": "stream",
     "text": [
      "(428, 6) (428, 37)\n",
      "(370, 6) (370, 37)\n",
      "(428, 6) (428, 37)\n",
      "(390, 6) (390, 37)\n",
      "(417, 6) (417, 37)\n",
      "(411, 6) (411, 37)\n"
     ]
    }
   ],
   "source": [
    "for file in file_list_2022:\n",
    "    file_df = pd.read_excel(file)\n",
    "    file_df.rename({'EmailAdress': 'EmailAddress'}, inplace=True, axis=1)\n",
    "    file_df2 = file_df.merge(filtered_person_2021, on='EmailAddress', how='inner')\n",
    "    print(file_df.shape, file_df2.shape)"
   ]
  },
  {
   "cell_type": "code",
   "execution_count": 42,
   "id": "288eaaea",
   "metadata": {},
   "outputs": [
    {
     "name": "stdout",
     "output_type": "stream",
     "text": [
      "(20, 9)\n"
     ]
    }
   ],
   "source": [
    "for file in file_list_2021:\n",
    "    file_df = pd.read_excel(file)\n",
    "    file_df.rename({'EmailAdress': 'EmailAddress'}, inplace=True, axis=1)\n",
    "    print(file_df.shape)"
   ]
  },
  {
   "cell_type": "code",
   "execution_count": 43,
   "id": "fbdc9cd7",
   "metadata": {},
   "outputs": [
    {
     "data": {
      "text/plain": [
       "['C:/Users/harry/Documents/data/Project_Node/Helix_Analysis_2021/Output\\\\Characteristics_avg_all_communication_all_data.xlsx']"
      ]
     },
     "execution_count": 43,
     "metadata": {},
     "output_type": "execute_result"
    }
   ],
   "source": [
    "file_list_2021"
   ]
  },
  {
   "cell_type": "code",
   "execution_count": null,
   "id": "0c2eb417",
   "metadata": {},
   "outputs": [],
   "source": []
  }
 ],
 "metadata": {
  "kernelspec": {
   "display_name": "Python 3 (ipykernel)",
   "language": "python",
   "name": "python3"
  },
  "language_info": {
   "codemirror_mode": {
    "name": "ipython",
    "version": 3
   },
   "file_extension": ".py",
   "mimetype": "text/x-python",
   "name": "python",
   "nbconvert_exporter": "python",
   "pygments_lexer": "ipython3",
   "version": "3.10.4"
  }
 },
 "nbformat": 4,
 "nbformat_minor": 5
}
