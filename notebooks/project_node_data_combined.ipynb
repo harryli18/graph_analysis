{
 "cells": [
  {
   "cell_type": "code",
   "execution_count": 6,
   "id": "ab495fbf",
   "metadata": {},
   "outputs": [],
   "source": [
    "import pandas as pd\n",
    "import os\n",
    "from itertools import permutations\n",
    "from sklearn.preprocessing import MinMaxScaler\n",
    "\n",
    "import warnings\n",
    "warnings.filterwarnings('ignore')"
   ]
  },
  {
   "cell_type": "code",
   "execution_count": 7,
   "id": "73c79482",
   "metadata": {},
   "outputs": [],
   "source": [
    "# Gather 2022 Details \n",
    "data_dir = 'C:/Users/harry/Documents/data/Project_Node/2022-08-14-171850/'\n",
    "person = pd.read_csv(os.path.join(data_dir, 'PersonHistorical.csv'))\n",
    "\n",
    "# Filter Person ID by Internal Netherland Office people \n",
    "filtered_person_df = person[(person['Country']=='Netherlands') & (person['WorkerType']=='Employee') & \\\n",
    "                            (person['Domain']=='CUSHWAKE.COM') & (person['ActiveStatus']=='Yes') & \\\n",
    "                            (person['IsInternal']==True) ]\n",
    "\n",
    "# Helix Office\n",
    "# filtered_person_df = filtered_person_df[filtered_person_df['Office'].isin(['C - NLD - Utrecht - Franz-Lisztplantsoen 100', \n",
    "#                                                       'C - NLD - Naarden - Gooimeer 6-32'])]\n",
    "\n",
    "# Gather 2021 Details\n",
    "data_dir_2 = 'C:/Users/harry/Documents/data/Project_Node/2021/'\n",
    "person_2021 = pd.read_csv(os.path.join(data_dir_2, 'PersonHistorical.csv'))\n",
    "\n",
    "# Filter Person ID by Internal Netherland Office people \n",
    "filtered_person_2021 = person_2021[(person_2021['Country']=='Netherlands') & (person_2021['WorkerType']=='Employee') & \\\n",
    "                            (person_2021['Domain']=='CUSHWAKE.COM') & (person_2021['ActiveStatus']=='Yes') & \\\n",
    "                            (person_2021['IsInternal']==True) ]\n",
    "\n",
    "# Helix Office\n",
    "# filtered_person_2021 = filtered_person_2021[filtered_person_2021['Office'].isin(['C - NLD - Utrecht - Franz-Lisztplantsoen 100', \n",
    "#                                                       'C - NLD - Naarden - Gooimeer 6-32'])]\n",
    "\n",
    "email_list_20212022 = filtered_person_2021.merge(filtered_person_df, on='EmailAddress', how='inner')['EmailAddress'].unique()"
   ]
  },
  {
   "cell_type": "code",
   "execution_count": 8,
   "id": "aaafbdde",
   "metadata": {},
   "outputs": [],
   "source": []
  },
  {
   "cell_type": "code",
   "execution_count": 36,
   "id": "34acef8a",
   "metadata": {},
   "outputs": [],
   "source": [
    "pd.set_option(\"display.max_rows\", False, \"display.max_columns\", None)\n"
   ]
  },
  {
   "cell_type": "code",
   "execution_count": 9,
   "id": "fa6ef0db",
   "metadata": {},
   "outputs": [],
   "source": [
    "report_dir = 'C:/Users/harry/Documents/data/Project_Node/report/'\n",
    "\n",
    "Calls = pd.read_csv(os.path.join(report_dir, 'Calls_Processed_01022022_31032022.csv'))\n",
    "Messages = pd.read_csv(os.path.join(report_dir, 'IMS_Processed_01022022_31032022.csv'))\n",
    "Mails = pd.read_csv(os.path.join(report_dir, 'Mails_Processed_01022022_31032022.csv'))\n",
    "Meetings = pd.read_csv(os.path.join(report_dir, 'Meetings_Processed_01022022_31032022.csv'))\n",
    "\n",
    "total_comms_df = Calls.merge(Mails, on=['EmailAddress1', 'EmailAddress2'], how='outer'\n",
    "           ).merge(Messages, on=['EmailAddress1', 'EmailAddress2'], how='outer'\n",
    "                  ).merge(Meetings, on=['EmailAddress1', 'EmailAddress2'], how='outer')\n",
    "\n",
    "total_comms_df.fillna(0, inplace=True)\n",
    "\n",
    "for col in ['TotalCallMinutes', 'TotalSpentinMinutesMails', 'TotalSpentinMinutesIMS', 'TotalSpentinMinutesMeetings']:\n",
    "    x_scaler = MinMaxScaler(feature_range=(0, 100))\n",
    "    x_scaler.fit(total_comms_df[col].values.reshape(-1, 1))\n",
    "    total_comms_df[col+'Scaled'] = pd.DataFrame(x_scaler.transform(total_comms_df[col].values.reshape(-1, 1)))\n",
    "\n",
    "mail_weight = 0.25\n",
    "message_weight = 0.25\n",
    "calls_weight = 0.25\n",
    "meetings_weight = 0.25\n",
    "\n",
    "total_comms_df['connectivity_score'] = mail_weight * total_comms_df['TotalSpentinMinutesMailsScaled'] + \\\n",
    "                                        message_weight * total_comms_df['TotalSpentinMinutesIMSScaled'] + \\\n",
    "                                        calls_weight * total_comms_df['TotalCallMinutesScaled'] + \\\n",
    "                                        meetings_weight * total_comms_df['TotalSpentinMinutesMeetingsScaled']\n",
    "\n",
    "filtered_person_df.sort_values(by='StartDate', ascending=False, inplace=True)\n",
    "\n",
    "df = filtered_person_df[['EmailAddress', 'Office']].drop_duplicates(subset=['EmailAddress'], keep='first')\n",
    "df.columns = ['EmailAddress1', 'Office1']\n",
    "total_comms_df2 = total_comms_df.merge(df, on='EmailAddress1', how='left')\n",
    "\n",
    "df.columns = ['EmailAddress2', 'Office2']\n",
    "total_comms_df3 = total_comms_df2.merge(df, on='EmailAddress2', how='left')\n",
    "total_comms_df3.to_csv(os.path.join(report_dir, 'OverallCommunication_Processed_01022022_31032022.csv'), index=False)"
   ]
  },
  {
   "cell_type": "code",
   "execution_count": 27,
   "id": "87b2c4f7",
   "metadata": {},
   "outputs": [],
   "source": []
  },
  {
   "cell_type": "code",
   "execution_count": 24,
   "id": "fb17e249",
   "metadata": {},
   "outputs": [],
   "source": [
    "total_comms_df3.to_csv(os.path.join(report_dir, 'OverallCommunication_Processed_01032022_01082022.csv'), index=False)"
   ]
  },
  {
   "cell_type": "code",
   "execution_count": null,
   "id": "75176fb5",
   "metadata": {},
   "outputs": [],
   "source": [
    "# Part 2 - Helix Study"
   ]
  },
  {
   "cell_type": "code",
   "execution_count": 30,
   "id": "3d438247",
   "metadata": {},
   "outputs": [],
   "source": [
    "report_dir = 'C:/Users/harry/Documents/data/Project_Node/report/Mar_Aug_2022_processed/'\n",
    "\n",
    "total_comms_df = pd.read_csv(os.path.join(report_dir, 'OverallCommunication_Processed_01032022_01082022.csv'))\n",
    "\n",
    "report_dir_2 = 'C:/Users/harry/Documents/data/Project_Node/report/Mar_Aug_2021_processed/'\n",
    "total_comms_2021 = pd.read_csv(os.path.join(report_dir_2, 'OverallCommunication_Processed_01032021_01082021.csv'))"
   ]
  },
  {
   "cell_type": "code",
   "execution_count": 31,
   "id": "cc315043",
   "metadata": {},
   "outputs": [],
   "source": [
    "total_comms_heliex_2022 = total_comms_df[(total_comms_df['EmailAddress1'].isin(email_list_20212022)) & \n",
    "               total_comms_df['EmailAddress2'].isin(email_list_20212022)]\n",
    "\n",
    "total_comms_heliex_2021  = total_comms_2021[(total_comms_2021['EmailAddress1'].isin(email_list_20212022)) & \n",
    "               total_comms_2021['EmailAddress2'].isin(email_list_20212022)]\n",
    "\n",
    "common_emailaddress_list = total_comms_heliex_2022[['EmailAddress1']].merge(\n",
    "    total_comms_heliex_2021[['EmailAddress1']], on='EmailAddress1', how='inner')['EmailAddress1'].unique()\n",
    "\n",
    "total_comms_heliex_2022 = total_comms_df[(total_comms_df['EmailAddress1'].isin(common_emailaddress_list)) & \n",
    "               total_comms_df['EmailAddress2'].isin(common_emailaddress_list)]\n",
    "\n",
    "total_comms_heliex_2021  = total_comms_2021[(total_comms_2021['EmailAddress1'].isin(common_emailaddress_list)) & \n",
    "               total_comms_2021['EmailAddress2'].isin(common_emailaddress_list)]"
   ]
  },
  {
   "cell_type": "code",
   "execution_count": 40,
   "id": "7c691938",
   "metadata": {},
   "outputs": [],
   "source": []
  },
  {
   "cell_type": "code",
   "execution_count": 33,
   "id": "28d7e61e",
   "metadata": {},
   "outputs": [
    {
     "data": {
      "text/plain": [
       "164"
      ]
     },
     "execution_count": 33,
     "metadata": {},
     "output_type": "execute_result"
    }
   ],
   "source": [
    "len(total_comms_heliex_2022['EmailAddress2'].unique())"
   ]
  },
  {
   "cell_type": "code",
   "execution_count": 32,
   "id": "452c156a",
   "metadata": {},
   "outputs": [
    {
     "data": {
      "text/plain": [
       "165"
      ]
     },
     "execution_count": 32,
     "metadata": {},
     "output_type": "execute_result"
    }
   ],
   "source": [
    "len(total_comms_heliex_2021['EmailAddress2'].unique())"
   ]
  },
  {
   "cell_type": "code",
   "execution_count": 37,
   "id": "8297ea04",
   "metadata": {},
   "outputs": [],
   "source": [
    "report_dir = 'C:/Users/harry/Documents/data/Project_Node/report'\n",
    "\n",
    "total_comms_heliex_2021.to_csv(os.path.join(report_dir, 'OverallCommunication_Helix_MartoAug2021.csv'), index=False)\n",
    "total_comms_heliex_2022.to_csv(os.path.join(report_dir, 'OverallCommunication_Helix_MartoAug2022.csv'), index=False)\n"
   ]
  },
  {
   "cell_type": "code",
   "execution_count": 35,
   "id": "a5671cd4",
   "metadata": {
    "scrolled": true
   },
   "outputs": [
    {
     "name": "stdout",
     "output_type": "stream",
     "text": [
      "(7231, 13) (7369, 13)\n"
     ]
    }
   ],
   "source": [
    "print(total_comms_heliex_2021.shape, total_comms_heliex_2022.shape)"
   ]
  },
  {
   "cell_type": "code",
   "execution_count": null,
   "id": "288eaaea",
   "metadata": {},
   "outputs": [],
   "source": []
  }
 ],
 "metadata": {
  "kernelspec": {
   "display_name": "Python 3 (ipykernel)",
   "language": "python",
   "name": "python3"
  },
  "language_info": {
   "codemirror_mode": {
    "name": "ipython",
    "version": 3
   },
   "file_extension": ".py",
   "mimetype": "text/x-python",
   "name": "python",
   "nbconvert_exporter": "python",
   "pygments_lexer": "ipython3",
   "version": "3.10.4"
  }
 },
 "nbformat": 4,
 "nbformat_minor": 5
}
